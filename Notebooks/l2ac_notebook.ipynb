{
 "cells": [
  {
   "cell_type": "code",
   "execution_count": 1,
   "metadata": {},
   "outputs": [
    {
     "name": "stderr",
     "output_type": "stream",
     "text": [
      "Using TensorFlow backend.\n",
      "/home/iranildo/anaconda3/envs/paic/lib/python3.6/site-packages/tensorflow/python/framework/dtypes.py:516: FutureWarning: Passing (type, 1) or '1type' as a synonym of type is deprecated; in a future version of numpy, it will be understood as (type, (1,)) / '(1,)type'.\n",
      "  _np_qint8 = np.dtype([(\"qint8\", np.int8, 1)])\n",
      "/home/iranildo/anaconda3/envs/paic/lib/python3.6/site-packages/tensorflow/python/framework/dtypes.py:517: FutureWarning: Passing (type, 1) or '1type' as a synonym of type is deprecated; in a future version of numpy, it will be understood as (type, (1,)) / '(1,)type'.\n",
      "  _np_quint8 = np.dtype([(\"quint8\", np.uint8, 1)])\n",
      "/home/iranildo/anaconda3/envs/paic/lib/python3.6/site-packages/tensorflow/python/framework/dtypes.py:518: FutureWarning: Passing (type, 1) or '1type' as a synonym of type is deprecated; in a future version of numpy, it will be understood as (type, (1,)) / '(1,)type'.\n",
      "  _np_qint16 = np.dtype([(\"qint16\", np.int16, 1)])\n",
      "/home/iranildo/anaconda3/envs/paic/lib/python3.6/site-packages/tensorflow/python/framework/dtypes.py:519: FutureWarning: Passing (type, 1) or '1type' as a synonym of type is deprecated; in a future version of numpy, it will be understood as (type, (1,)) / '(1,)type'.\n",
      "  _np_quint16 = np.dtype([(\"quint16\", np.uint16, 1)])\n",
      "/home/iranildo/anaconda3/envs/paic/lib/python3.6/site-packages/tensorflow/python/framework/dtypes.py:520: FutureWarning: Passing (type, 1) or '1type' as a synonym of type is deprecated; in a future version of numpy, it will be understood as (type, (1,)) / '(1,)type'.\n",
      "  _np_qint32 = np.dtype([(\"qint32\", np.int32, 1)])\n",
      "/home/iranildo/anaconda3/envs/paic/lib/python3.6/site-packages/tensorflow/python/framework/dtypes.py:525: FutureWarning: Passing (type, 1) or '1type' as a synonym of type is deprecated; in a future version of numpy, it will be understood as (type, (1,)) / '(1,)type'.\n",
      "  np_resource = np.dtype([(\"resource\", np.ubyte, 1)])\n",
      "/home/iranildo/anaconda3/envs/paic/lib/python3.6/site-packages/tensorboard/compat/tensorflow_stub/dtypes.py:541: FutureWarning: Passing (type, 1) or '1type' as a synonym of type is deprecated; in a future version of numpy, it will be understood as (type, (1,)) / '(1,)type'.\n",
      "  _np_qint8 = np.dtype([(\"qint8\", np.int8, 1)])\n",
      "/home/iranildo/anaconda3/envs/paic/lib/python3.6/site-packages/tensorboard/compat/tensorflow_stub/dtypes.py:542: FutureWarning: Passing (type, 1) or '1type' as a synonym of type is deprecated; in a future version of numpy, it will be understood as (type, (1,)) / '(1,)type'.\n",
      "  _np_quint8 = np.dtype([(\"quint8\", np.uint8, 1)])\n",
      "/home/iranildo/anaconda3/envs/paic/lib/python3.6/site-packages/tensorboard/compat/tensorflow_stub/dtypes.py:543: FutureWarning: Passing (type, 1) or '1type' as a synonym of type is deprecated; in a future version of numpy, it will be understood as (type, (1,)) / '(1,)type'.\n",
      "  _np_qint16 = np.dtype([(\"qint16\", np.int16, 1)])\n",
      "/home/iranildo/anaconda3/envs/paic/lib/python3.6/site-packages/tensorboard/compat/tensorflow_stub/dtypes.py:544: FutureWarning: Passing (type, 1) or '1type' as a synonym of type is deprecated; in a future version of numpy, it will be understood as (type, (1,)) / '(1,)type'.\n",
      "  _np_quint16 = np.dtype([(\"quint16\", np.uint16, 1)])\n",
      "/home/iranildo/anaconda3/envs/paic/lib/python3.6/site-packages/tensorboard/compat/tensorflow_stub/dtypes.py:545: FutureWarning: Passing (type, 1) or '1type' as a synonym of type is deprecated; in a future version of numpy, it will be understood as (type, (1,)) / '(1,)type'.\n",
      "  _np_qint32 = np.dtype([(\"qint32\", np.int32, 1)])\n",
      "/home/iranildo/anaconda3/envs/paic/lib/python3.6/site-packages/tensorboard/compat/tensorflow_stub/dtypes.py:550: FutureWarning: Passing (type, 1) or '1type' as a synonym of type is deprecated; in a future version of numpy, it will be understood as (type, (1,)) / '(1,)type'.\n",
      "  np_resource = np.dtype([(\"resource\", np.ubyte, 1)])\n"
     ]
    }
   ],
   "source": [
    "import argparse\n",
    "import numpy as np\n",
    "import json\n",
    "import random\n",
    "import keras\n",
    "import tensorflow as tf\n",
    "from keras import backend as K"
   ]
  },
  {
   "cell_type": "code",
   "execution_count": 2,
   "metadata": {},
   "outputs": [],
   "source": [
    "batch_size=256\n",
    "top_n=5\n",
    "model_type=\"l2ac\"\n",
    "set_mode=\"train1\"\n",
    "db=\"amazon\"\n",
    "ncls=9\n",
    "\n",
    "out_dir=\"../runs/l2ac_5_9/0/\"\n",
    "\n",
    "output_fn=out_dir+\"train.h5\"\n",
    "eval_fn=out_dir+\"eval.h5\"\n",
    "data=np.load(\"../\"+db+\"/data/\"+set_mode+\"_idx.npz\")"
   ]
  },
  {
   "cell_type": "code",
   "execution_count": 3,
   "metadata": {},
   "outputs": [],
   "source": [
    "train_X0=np.repeat(data['train_X0'], ncls, axis=0)\n",
    "train_X1=data['train_X1'][:,-ncls:,-top_n:].reshape(-1, top_n)\n",
    "train_Y=data['train_Y'][:,-ncls:].reshape(-1,)\n",
    "valid_X0=np.repeat(data['valid_X0'], 2, axis=0) #the validation data is balanced.\n",
    "valid_X1=data['valid_X1'][:,-2:,-top_n:].reshape(-1, top_n)\n",
    "valid_Y=data['valid_Y'][:,-2:].reshape(-1,)"
   ]
  },
  {
   "cell_type": "code",
   "execution_count": 4,
   "metadata": {},
   "outputs": [
    {
     "name": "stdout",
     "output_type": "stream",
     "text": [
      "['train_rep', 'train_Y', 'valid_X1', 'train_X0', 'valid_Y', 'train_X1', 'valid_X0']\n"
     ]
    }
   ],
   "source": [
    "print(data.files)"
   ]
  },
  {
   "cell_type": "code",
   "execution_count": 5,
   "metadata": {},
   "outputs": [
    {
     "name": "stdout",
     "output_type": "stream",
     "text": [
      "WARNING:tensorflow:From /home/iranildo/anaconda3/envs/paic/lib/python3.6/site-packages/keras/backend/tensorflow_backend.py:74: The name tf.get_default_graph is deprecated. Please use tf.compat.v1.get_default_graph instead.\n",
      "\n",
      "WARNING:tensorflow:From /home/iranildo/anaconda3/envs/paic/lib/python3.6/site-packages/keras/backend/tensorflow_backend.py:517: The name tf.placeholder is deprecated. Please use tf.compat.v1.placeholder instead.\n",
      "\n"
     ]
    }
   ],
   "source": [
    "query=keras.Input(shape=(data['train_rep'].shape[1],), dtype=\"float32\" )\n",
    "x_rep=query\n",
    "x1=keras.Input(shape=(top_n, data['train_rep'].shape[1]), dtype=\"float32\" )\n",
    "x1_rep=x1"
   ]
  },
  {
   "cell_type": "code",
   "execution_count": 16,
   "metadata": {},
   "outputs": [
    {
     "name": "stdout",
     "output_type": "stream",
     "text": [
      "(100000, 512)\n",
      "[[0.         0.00376278 0.         ... 0.         0.04510138 0.0141681 ]\n",
      " [0.         0.         0.03986862 ... 0.         0.08018569 0.01789098]\n",
      " [0.         0.05254612 0.02741214 ... 0.         0.05547189 0.00843837]\n",
      " ...\n",
      " [0.         0.02203734 0.02549556 ... 0.47996774 0.00141776 0.01909813]\n",
      " [0.         0.         0.         ... 0.03336517 0.         0.00200262]\n",
      " [0.         0.         0.0822084  ... 0.00569493 0.00078439 0.01160259]]\n"
     ]
    }
   ],
   "source": [
    "print(data['train_rep'].shape)\n",
    "print(data['train_rep'])"
   ]
  },
  {
   "cell_type": "code",
   "execution_count": 8,
   "metadata": {},
   "outputs": [
    {
     "name": "stdout",
     "output_type": "stream",
     "text": [
      "Tensor(\"input_1:0\", shape=(?, 512), dtype=float32)\n",
      "Tensor(\"input_2:0\", shape=(?, 5, 512), dtype=float32)\n"
     ]
    }
   ],
   "source": [
    "print(query)\n",
    "print(x1)"
   ]
  },
  {
   "cell_type": "code",
   "execution_count": 9,
   "metadata": {},
   "outputs": [],
   "source": [
    "#\"many_lstm_simspace\"\n",
    "x_rep=keras.layers.RepeatVector(train_X1.shape[1] )(x_rep)\n",
    "if \"abssub\" in model_type:\n",
    "    x_sub=keras.layers.Subtract()([x_rep, x1_rep])\n",
    "    x_rep=keras.layers.Lambda(lambda x: K.abs(x) )(x_sub)\n",
    "elif \"sum\" in model_type:\n",
    "    x_rep=keras.layers.Add()([x_rep, x1_rep])\n",
    "else:\n",
    "    x_sub=keras.layers.Subtract()([x_rep, x1_rep])\n",
    "    x_abs=keras.layers.Lambda(lambda x: K.abs(x) )(x_sub)\n",
    "    x_add=keras.layers.Add()([x_rep, x1_rep])\n",
    "    x_rep=keras.layers.Concatenate(axis=-1)([x_abs, x_add])"
   ]
  },
  {
   "cell_type": "code",
   "execution_count": 10,
   "metadata": {},
   "outputs": [
    {
     "name": "stdout",
     "output_type": "stream",
     "text": [
      "WARNING:tensorflow:From /home/iranildo/anaconda3/envs/paic/lib/python3.6/site-packages/keras/backend/tensorflow_backend.py:4138: The name tf.random_uniform is deprecated. Please use tf.random.uniform instead.\n",
      "\n",
      "WARNING:tensorflow:From /home/iranildo/anaconda3/envs/paic/lib/python3.6/site-packages/keras/backend/tensorflow_backend.py:133: The name tf.placeholder_with_default is deprecated. Please use tf.compat.v1.placeholder_with_default instead.\n",
      "\n",
      "WARNING:tensorflow:From /home/iranildo/anaconda3/envs/paic/lib/python3.6/site-packages/keras/backend/tensorflow_backend.py:3445: calling dropout (from tensorflow.python.ops.nn_ops) with keep_prob is deprecated and will be removed in a future version.\n",
      "Instructions for updating:\n",
      "Please use `rate` instead of `keep_prob`. Rate should be set to `rate = 1 - keep_prob`.\n"
     ]
    }
   ],
   "source": [
    "x_rep=keras.layers.Dense(512, activation=\"relu\")(x_rep)\n",
    "x_rep=keras.layers.Dropout(0.5)(x_rep)\n",
    "if top_n>1: #do not use lstm when only have one example per class\n",
    "    x_rep=keras.layers.Dense(1, activation=\"sigmoid\")(x_rep)\n",
    "    x_rep=keras.layers.Bidirectional(keras.layers.CuDNNLSTM(1) )(x_rep)\n",
    "    #x_rep=keras.layers.Bidirectional(keras.layers.LSTM(1) )(x_rep)\n",
    "else:\n",
    "    x_rep=keras.layers.Reshape((-1,) )(x_rep)"
   ]
  },
  {
   "cell_type": "code",
   "execution_count": 17,
   "metadata": {},
   "outputs": [
    {
     "name": "stdout",
     "output_type": "stream",
     "text": [
      "WARNING:tensorflow:From /home/iranildo/anaconda3/envs/paic/lib/python3.6/site-packages/keras/backend/tensorflow_backend.py:174: The name tf.get_default_session is deprecated. Please use tf.compat.v1.get_default_session instead.\n",
      "\n",
      "WARNING:tensorflow:From /home/iranildo/anaconda3/envs/paic/lib/python3.6/site-packages/keras/optimizers.py:790: The name tf.train.Optimizer is deprecated. Please use tf.compat.v1.train.Optimizer instead.\n",
      "\n",
      "WARNING:tensorflow:From /home/iranildo/anaconda3/envs/paic/lib/python3.6/site-packages/tensorflow/python/ops/nn_impl.py:180: add_dispatch_support.<locals>.wrapper (from tensorflow.python.ops.array_ops) is deprecated and will be removed in a future version.\n",
      "Instructions for updating:\n",
      "Use tf.where in 2.0, which has the same broadcast rule as np.where\n"
     ]
    }
   ],
   "source": [
    "output=keras.layers.Dense(1, activation=\"sigmoid\")(x_rep)\n",
    "matching_model=keras.engine.Model([query, x1], output)\n",
    "mem_layer=keras.layers.Embedding(data['train_rep'].shape[0], data['train_rep'].shape[1], weights=[data['train_rep'] ], trainable=False)\n",
    "x=keras.Input(shape=(train_X0.shape[1],), dtype=\"int32\" )\n",
    "x_rep=keras.layers.Reshape((-1,) )(mem_layer(x) )\n",
    "x1=keras.Input(shape=(train_X1.shape[1],), dtype=\"int32\" )\n",
    "x1_rep=mem_layer(x1)\n",
    "output=matching_model([x_rep, x1_rep])\n",
    "train_model=keras.engine.Model([x, x1], output)\n",
    "train_model.compile(loss=\"binary_crossentropy\", optimizer=keras.optimizers.Adam(lr=0.0001), metrics=[\"acc\"])"
   ]
  },
  {
   "cell_type": "code",
   "execution_count": 20,
   "metadata": {},
   "outputs": [
    {
     "name": "stdout",
     "output_type": "stream",
     "text": [
      "__________________________________________________________________________________________________\n",
      "Layer (type)                    Output Shape         Param #     Connected to                     \n",
      "==================================================================================================\n",
      "input_1 (InputLayer)            (None, 512)          0                                            \n",
      "__________________________________________________________________________________________________\n",
      "repeat_vector_1 (RepeatVector)  (None, 5, 512)       0           input_1[0][0]                    \n",
      "__________________________________________________________________________________________________\n",
      "input_2 (InputLayer)            (None, 5, 512)       0                                            \n",
      "__________________________________________________________________________________________________\n",
      "subtract_1 (Subtract)           (None, 5, 512)       0           repeat_vector_1[0][0]            \n",
      "                                                                 input_2[0][0]                    \n",
      "__________________________________________________________________________________________________\n",
      "lambda_1 (Lambda)               (None, 5, 512)       0           subtract_1[0][0]                 \n",
      "__________________________________________________________________________________________________\n",
      "add_1 (Add)                     (None, 5, 512)       0           repeat_vector_1[0][0]            \n",
      "                                                                 input_2[0][0]                    \n",
      "__________________________________________________________________________________________________\n",
      "concatenate_1 (Concatenate)     (None, 5, 1024)      0           lambda_1[0][0]                   \n",
      "                                                                 add_1[0][0]                      \n",
      "__________________________________________________________________________________________________\n",
      "dense_1 (Dense)                 (None, 5, 512)       524800      concatenate_1[0][0]              \n",
      "__________________________________________________________________________________________________\n",
      "dropout_1 (Dropout)             (None, 5, 512)       0           dense_1[0][0]                    \n",
      "__________________________________________________________________________________________________\n",
      "dense_2 (Dense)                 (None, 5, 1)         513         dropout_1[0][0]                  \n",
      "__________________________________________________________________________________________________\n",
      "bidirectional_1 (Bidirectional) (None, 2)            32          dense_2[0][0]                    \n",
      "__________________________________________________________________________________________________\n",
      "dense_3 (Dense)                 (None, 1)            3           bidirectional_1[0][0]            \n",
      "==================================================================================================\n",
      "Total params: 525,348\n",
      "Trainable params: 525,348\n",
      "Non-trainable params: 0\n",
      "__________________________________________________________________________________________________\n",
      "None\n",
      "__________________________________________________________________________________________________\n",
      "Layer (type)                    Output Shape         Param #     Connected to                     \n",
      "==================================================================================================\n",
      "input_3 (InputLayer)            (None, 1)            0                                            \n",
      "__________________________________________________________________________________________________\n",
      "embedding_1 (Embedding)         multiple             51200000    input_3[0][0]                    \n",
      "                                                                 input_4[0][0]                    \n",
      "__________________________________________________________________________________________________\n",
      "input_4 (InputLayer)            (None, 5)            0                                            \n",
      "__________________________________________________________________________________________________\n",
      "reshape_1 (Reshape)             (None, 512)          0           embedding_1[0][0]                \n",
      "__________________________________________________________________________________________________\n",
      "model_1 (Model)                 (None, 1)            525348      reshape_1[0][0]                  \n",
      "                                                                 embedding_1[1][0]                \n",
      "==================================================================================================\n",
      "Total params: 51,725,348\n",
      "Trainable params: 525,348\n",
      "Non-trainable params: 51,200,000\n",
      "__________________________________________________________________________________________________\n",
      "None\n"
     ]
    }
   ],
   "source": [
    "print(matching_model.summary())\n",
    "print(train_model.summary())"
   ]
  },
  {
   "cell_type": "code",
   "execution_count": 21,
   "metadata": {},
   "outputs": [],
   "source": [
    "history=train_model.fit([train_X0, train_X1 ], train_Y, class_weight={0: 1./ncls, 1: (ncls-1.)/ncls}, \n",
    "                  validation_data=([valid_X0, valid_X1], valid_Y), \n",
    "                  batch_size=batch_size, epochs=50, verbose=0,\n",
    "                  callbacks=[\n",
    "                     keras.callbacks.ModelCheckpoint(output_fn, save_best_only=True) ]  )"
   ]
  },
  {
   "cell_type": "code",
   "execution_count": 27,
   "metadata": {},
   "outputs": [],
   "source": [
    "train_model.load_weights(output_fn)\n",
    "output=matching_model([query, x1_rep])\n",
    "eval_model=keras.engine.Model([query, x1], output)\n",
    "eval_model.save(eval_fn)"
   ]
  }
 ],
 "metadata": {
  "kernelspec": {
   "display_name": "Python 3",
   "language": "python",
   "name": "python3"
  },
  "language_info": {
   "codemirror_mode": {
    "name": "ipython",
    "version": 3
   },
   "file_extension": ".py",
   "mimetype": "text/x-python",
   "name": "python",
   "nbconvert_exporter": "python",
   "pygments_lexer": "ipython3",
   "version": "3.6.9"
  }
 },
 "nbformat": 4,
 "nbformat_minor": 4
}
