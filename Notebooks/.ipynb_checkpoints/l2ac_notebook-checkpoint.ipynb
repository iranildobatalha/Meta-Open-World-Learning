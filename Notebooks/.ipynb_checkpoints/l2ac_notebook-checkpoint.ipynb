{
 "cells": [
  {
   "cell_type": "code",
   "execution_count": 2,
   "metadata": {},
   "outputs": [
    {
     "name": "stderr",
     "output_type": "stream",
     "text": [
      "Using TensorFlow backend.\n"
     ]
    }
   ],
   "source": [
    "import argparse\n",
    "import numpy as np\n",
    "import json\n",
    "import random\n",
    "import keras\n",
    "import tensorflow as tf\n",
    "from keras import backend as K"
   ]
  },
  {
   "cell_type": "code",
   "execution_count": 3,
   "metadata": {},
   "outputs": [],
   "source": [
    "batch_size=256\n",
    "top_n=5\n",
    "model_type=\"l2ac\"\n",
    "set_mode=\"train1\"\n",
    "db=\"amazon\"\n",
    "ncls=9\n",
    "\n",
    "out_dir=\"../runs/l2ac_5_9/0/\"\n",
    "\n",
    "output_fn=out_dir+\"train.h5\"\n",
    "eval_fn=out_dir+\"eval.h5\"\n",
    "data=np.load(\"../\"+db+\"/data/\"+set_mode+\"_idx.npz\")"
   ]
  },
  {
   "cell_type": "code",
   "execution_count": 4,
   "metadata": {},
   "outputs": [],
   "source": [
    "train_X0=np.repeat(data['train_X0'], ncls, axis=0)\n",
    "train_X1=data['train_X1'][:,-ncls:,-top_n:].reshape(-1, top_n)\n",
    "train_Y=data['train_Y'][:,-ncls:].reshape(-1,)\n",
    "valid_X0=np.repeat(data['valid_X0'], 2, axis=0) #the validation data is balanced.\n",
    "valid_X1=data['valid_X1'][:,-2:,-top_n:].reshape(-1, top_n)\n",
    "valid_Y=data['valid_Y'][:,-2:].reshape(-1,)"
   ]
  },
  {
   "cell_type": "code",
   "execution_count": 5,
   "metadata": {},
   "outputs": [
    {
     "name": "stdout",
     "output_type": "stream",
     "text": [
      "['train_rep', 'train_Y', 'valid_X1', 'train_X0', 'valid_Y', 'train_X1', 'valid_X0']\n"
     ]
    }
   ],
   "source": [
    "print(data.files)"
   ]
  },
  {
   "cell_type": "code",
   "execution_count": 6,
   "metadata": {},
   "outputs": [
    {
     "name": "stdout",
     "output_type": "stream",
     "text": [
      "WARNING:tensorflow:From /home/iranildo/anaconda3/envs/paic/lib/python3.6/site-packages/keras/backend/tensorflow_backend.py:74: The name tf.get_default_graph is deprecated. Please use tf.compat.v1.get_default_graph instead.\n",
      "\n",
      "WARNING:tensorflow:From /home/iranildo/anaconda3/envs/paic/lib/python3.6/site-packages/keras/backend/tensorflow_backend.py:517: The name tf.placeholder is deprecated. Please use tf.compat.v1.placeholder instead.\n",
      "\n"
     ]
    }
   ],
   "source": [
    "query=keras.Input(shape=(data['train_rep'].shape[1],), dtype=\"float32\" )\n",
    "x_rep=query\n",
    "x1=keras.Input(shape=(top_n, data['train_rep'].shape[1]), dtype=\"float32\" )\n",
    "x1_rep=x1"
   ]
  },
  {
   "cell_type": "code",
   "execution_count": 7,
   "metadata": {},
   "outputs": [
    {
     "name": "stdout",
     "output_type": "stream",
     "text": [
      "(100000, 512)\n",
      "[[0.         0.00376278 0.         ... 0.         0.04510138 0.0141681 ]\n",
      " [0.         0.         0.03986862 ... 0.         0.08018569 0.01789098]\n",
      " [0.         0.05254612 0.02741214 ... 0.         0.05547189 0.00843837]\n",
      " ...\n",
      " [0.         0.02203734 0.02549556 ... 0.47996774 0.00141776 0.01909813]\n",
      " [0.         0.         0.         ... 0.03336517 0.         0.00200262]\n",
      " [0.         0.         0.0822084  ... 0.00569493 0.00078439 0.01160259]]\n"
     ]
    }
   ],
   "source": [
    "print(data['train_rep'].shape)\n",
    "print(data['train_rep'])"
   ]
  },
  {
   "cell_type": "code",
   "execution_count": 9,
   "metadata": {},
   "outputs": [
    {
     "name": "stdout",
     "output_type": "stream",
     "text": [
      "Tensor(\"input_1:0\", shape=(?, 512), dtype=float32)\n",
      "Tensor(\"input_2:0\", shape=(?, 5, 512), dtype=float32)\n"
     ]
    }
   ],
   "source": [
    "print(query)\n",
    "print(x1)"
   ]
  },
  {
   "cell_type": "code",
   "execution_count": 10,
   "metadata": {},
   "outputs": [],
   "source": [
    "#\"many_lstm_simspace\"\n",
    "x_rep=keras.layers.RepeatVector(train_X1.shape[1] )(x_rep)\n",
    "if \"abssub\" in model_type:\n",
    "    x_sub=keras.layers.Subtract()([x_rep, x1_rep])\n",
    "    x_rep=keras.layers.Lambda(lambda x: K.abs(x) )(x_sub)\n",
    "elif \"sum\" in model_type:\n",
    "    x_rep=keras.layers.Add()([x_rep, x1_rep])\n",
    "else:\n",
    "    x_sub=keras.layers.Subtract()([x_rep, x1_rep])\n",
    "    x_abs=keras.layers.Lambda(lambda x: K.abs(x) )(x_sub)\n",
    "    x_add=keras.layers.Add()([x_rep, x1_rep])\n",
    "    x_rep=keras.layers.Concatenate(axis=-1)([x_abs, x_add])"
   ]
  },
  {
   "cell_type": "code",
   "execution_count": 32,
   "metadata": {},
   "outputs": [
    {
     "name": "stdout",
     "output_type": "stream",
     "text": [
      "<DatasetV1Adapter shapes: (?,), types: tf.int64>\n",
      "<DatasetV1Adapter shapes: (?,), types: tf.int32>\n",
      "<class 'tensorflow.python.data.ops.dataset_ops.DatasetV1Adapter'> <class 'tensorflow.python.data.ops.dataset_ops.DatasetV1Adapter'>\n"
     ]
    }
   ],
   "source": [
    "a = list(range(16))\n",
    "b = list(range(32))\n",
    "dsa = tf.data.Dataset.range(16).window(1,shift=1,drop_remainder=True)\n",
    "dsa = dsa.flat_map(lambda w: w.batch(1))\n",
    "dsb = tf.data.Dataset.from_tensor_slices(b).window(1,shift=1,drop_remainder=True)\n",
    "dsb = dsb.flat_map(lambda w: w.batch(1))\n",
    "print(dsa)\n",
    "print(dsb)\n",
    "print(type(dsa),type(dsb))"
   ]
  },
  {
   "cell_type": "code",
   "execution_count": 85,
   "metadata": {},
   "outputs": [
    {
     "name": "stdout",
     "output_type": "stream",
     "text": [
      "__________________________________________________________________________________________________\n",
      "Layer (type)                    Output Shape         Param #     Connected to                     \n",
      "==================================================================================================\n",
      "input_121 (InputLayer)          (None, 16)           0                                            \n",
      "__________________________________________________________________________________________________\n",
      "input_122 (InputLayer)          (None, 32)           0                                            \n",
      "__________________________________________________________________________________________________\n",
      "dense_178 (Dense)               (None, 8)            136         input_121[0][0]                  \n",
      "__________________________________________________________________________________________________\n",
      "dense_179 (Dense)               (None, 8)            264         input_122[0][0]                  \n",
      "__________________________________________________________________________________________________\n",
      "subtract_61 (Subtract)          (None, 8)            0           dense_178[0][0]                  \n",
      "                                                                 dense_179[0][0]                  \n",
      "__________________________________________________________________________________________________\n",
      "dense_180 (Dense)               (None, 4)            36          subtract_61[0][0]                \n",
      "==================================================================================================\n",
      "Total params: 436\n",
      "Trainable params: 436\n",
      "Non-trainable params: 0\n",
      "__________________________________________________________________________________________________\n",
      "(16,)\n",
      "[80 33 62 78 37 10 98 37 81 36 12 92 51  0 86 60]\n",
      "(32,)\n",
      "[22 19 10 96 58 84 70 49  1 36 32 10 39 84 56 48 95 69 62 86 20 49 24 90\n",
      " 77 39 29 79 56 52 23 18]\n",
      "<class 'numpy.ndarray'>\n",
      "<class 'numpy.ndarray'>\n"
     ]
    },
    {
     "ename": "AttributeError",
     "evalue": "'numpy.ndarray' object has no attribute 'numpy'",
     "output_type": "error",
     "traceback": [
      "\u001b[0;31m---------------------------------------------------------------------------\u001b[0m",
      "\u001b[0;31mAttributeError\u001b[0m                            Traceback (most recent call last)",
      "\u001b[0;32m<ipython-input-85-baf1213ee77f>\u001b[0m in \u001b[0;36m<module>\u001b[0;34m\u001b[0m\n\u001b[1;32m     25\u001b[0m print(in_put[1].shape)'''\n\u001b[1;32m     26\u001b[0m \u001b[0;34m\u001b[0m\u001b[0m\n\u001b[0;32m---> 27\u001b[0;31m \u001b[0mhistory\u001b[0m \u001b[0;34m=\u001b[0m \u001b[0mmodel\u001b[0m\u001b[0;34m.\u001b[0m\u001b[0mpredict\u001b[0m\u001b[0;34m(\u001b[0m\u001b[0;34m[\u001b[0m\u001b[0mdsa\u001b[0m\u001b[0;34m.\u001b[0m\u001b[0mnumpy\u001b[0m\u001b[0;34m(\u001b[0m\u001b[0;34m)\u001b[0m\u001b[0;34m,\u001b[0m\u001b[0mdsb\u001b[0m\u001b[0;34m.\u001b[0m\u001b[0mnumpy\u001b[0m\u001b[0;34m(\u001b[0m\u001b[0;34m)\u001b[0m\u001b[0;34m]\u001b[0m\u001b[0;34m)\u001b[0m\u001b[0;34m\u001b[0m\u001b[0;34m\u001b[0m\u001b[0m\n\u001b[0m",
      "\u001b[0;31mAttributeError\u001b[0m: 'numpy.ndarray' object has no attribute 'numpy'"
     ]
    }
   ],
   "source": [
    "input1 = keras.layers.Input(shape=(16,))\n",
    "x1 = keras.layers.Dense(8, activation='relu')(input1)\n",
    "input2 = keras.layers.Input(shape=(32,))\n",
    "x2 = keras.layers.Dense(8, activation='relu')(input2)\n",
    "# Equivalent to subtracted = keras.layers.subtract([x1, x2])\n",
    "subtracted = keras.layers.Subtract()([x1, x2])\n",
    "\n",
    "out = keras.layers.Dense(4)(subtracted)\n",
    "model = keras.models.Model(inputs=[input1, input2], outputs=out)\n",
    "model.compile(optimizer='adam',loss=keras.losses.categorical_crossentropy)\n",
    "model.summary()\n",
    "\n",
    "#print(in_put)\n",
    "dsa = np.random.randint(100,size=(16,))\n",
    "dsb = np.random.randint(100,size=(32,))\n",
    "print(dsa.shape)\n",
    "print(dsa)\n",
    "print(dsb.shape)\n",
    "print(dsb)\n",
    "print(type(dsa))\n",
    "print(type(dsb))\n",
    "\n",
    "'''print(in_put.shape)\n",
    "print(in_put[0].shape)\n",
    "print(in_put[1].shape)'''\n",
    "\n",
    "history = model.predict([dsa.numpy(),dsb.numpy()])"
   ]
  }
 ],
 "metadata": {
  "kernelspec": {
   "display_name": "Python 3",
   "language": "python",
   "name": "python3"
  },
  "language_info": {
   "codemirror_mode": {
    "name": "ipython",
    "version": 3
   },
   "file_extension": ".py",
   "mimetype": "text/x-python",
   "name": "python",
   "nbconvert_exporter": "python",
   "pygments_lexer": "ipython3",
   "version": "3.6.9"
  }
 },
 "nbformat": 4,
 "nbformat_minor": 4
}
